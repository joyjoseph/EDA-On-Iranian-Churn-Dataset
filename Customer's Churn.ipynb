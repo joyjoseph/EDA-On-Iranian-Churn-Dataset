{
 "cells": [
  {
   "cell_type": "markdown",
   "metadata": {},
   "source": [
    "### *Performing Explanatory Description Analysis (EDA) for the Customer's Churn Dataset*"
   ]
  },
  {
   "cell_type": "markdown",
   "metadata": {},
   "source": [
    "                                                  The Problem\n",
    "\n",
    "Ahead of the meeting of stakeholders, the senior data scientist has assigned the task of digging deep into the data below and come up with a 10-15 slides deck of Explanatory Description Analysis (EDA) for the data."
   ]
  },
  {
   "cell_type": "markdown",
   "metadata": {},
   "source": [
    "                                                  The Objective\n",
    "\n",
    "The EDA should be aimed at;\n",
    "1.   Digging deep to unravel gold in form of insights.\n",
    "2.   Show Trends and any other information that may be or may not be visible \n"
   ]
  },
  {
   "cell_type": "markdown",
   "metadata": {},
   "source": [
    "### *What does Churn Means?*\n",
    "\n",
    "Churn in business terms refers to as ‘when a client ends a subscription to a service they have been using.’ An example in context of this project will be when people that subscribes to a particular network plans cancels subscription. Another common example is cancelling Spotify/Netflix subscriptions. \n",
    "\n",
    "So, basically, Churn Prediction is essentially predicting which clients are most likely to cancel a subscription i.e ‘leave a company’ based on their usage of the service.\n",
    "\n",
    "From a company point of view, it is necessary to gain this information because acquiring new customers is often arduous and costlier than retaining old ones. Hence, the insights gained from Churn Prediction helps them to focus more on the customers that are at a high risk of leaving."
   ]
  },
  {
   "cell_type": "code",
   "execution_count": 1,
   "metadata": {},
   "outputs": [],
   "source": [
    "# importing the required libaries\n",
    "import pandas as pd\n",
    "import numpy as np\n",
    "import matplotlib.pyplot as plt\n",
    "import seaborn as sns\n",
    "import scipy.stats as stats\n",
    "%matplotlib inline"
   ]
  },
  {
   "cell_type": "code",
   "execution_count": 3,
   "metadata": {},
   "outputs": [
    {
     "data": {
      "text/html": [
       "<div>\n",
       "<style scoped>\n",
       "    .dataframe tbody tr th:only-of-type {\n",
       "        vertical-align: middle;\n",
       "    }\n",
       "\n",
       "    .dataframe tbody tr th {\n",
       "        vertical-align: top;\n",
       "    }\n",
       "\n",
       "    .dataframe thead th {\n",
       "        text-align: right;\n",
       "    }\n",
       "</style>\n",
       "<table border=\"1\" class=\"dataframe\">\n",
       "  <thead>\n",
       "    <tr style=\"text-align: right;\">\n",
       "      <th></th>\n",
       "      <th>Call  Failure</th>\n",
       "      <th>Complains</th>\n",
       "      <th>Subscription  Length</th>\n",
       "      <th>Charge  Amount</th>\n",
       "      <th>Seconds of Use</th>\n",
       "      <th>Frequency of use</th>\n",
       "      <th>Frequency of SMS</th>\n",
       "      <th>Distinct Called Numbers</th>\n",
       "      <th>Age Group</th>\n",
       "      <th>Tariff Plan</th>\n",
       "      <th>Status</th>\n",
       "      <th>Age</th>\n",
       "      <th>Customer Value</th>\n",
       "      <th>FN</th>\n",
       "      <th>FP</th>\n",
       "      <th>Churn</th>\n",
       "    </tr>\n",
       "  </thead>\n",
       "  <tbody>\n",
       "    <tr>\n",
       "      <th>0</th>\n",
       "      <td>8</td>\n",
       "      <td>0</td>\n",
       "      <td>38</td>\n",
       "      <td>0</td>\n",
       "      <td>4370</td>\n",
       "      <td>71</td>\n",
       "      <td>5</td>\n",
       "      <td>17</td>\n",
       "      <td>3</td>\n",
       "      <td>1</td>\n",
       "      <td>1</td>\n",
       "      <td>30</td>\n",
       "      <td>197.640</td>\n",
       "      <td>177.8760</td>\n",
       "      <td>69.7640</td>\n",
       "      <td>0</td>\n",
       "    </tr>\n",
       "    <tr>\n",
       "      <th>1</th>\n",
       "      <td>0</td>\n",
       "      <td>0</td>\n",
       "      <td>39</td>\n",
       "      <td>0</td>\n",
       "      <td>318</td>\n",
       "      <td>5</td>\n",
       "      <td>7</td>\n",
       "      <td>4</td>\n",
       "      <td>2</td>\n",
       "      <td>1</td>\n",
       "      <td>2</td>\n",
       "      <td>25</td>\n",
       "      <td>46.035</td>\n",
       "      <td>41.4315</td>\n",
       "      <td>60.0000</td>\n",
       "      <td>0</td>\n",
       "    </tr>\n",
       "    <tr>\n",
       "      <th>2</th>\n",
       "      <td>10</td>\n",
       "      <td>0</td>\n",
       "      <td>37</td>\n",
       "      <td>0</td>\n",
       "      <td>2453</td>\n",
       "      <td>60</td>\n",
       "      <td>359</td>\n",
       "      <td>24</td>\n",
       "      <td>3</td>\n",
       "      <td>1</td>\n",
       "      <td>1</td>\n",
       "      <td>30</td>\n",
       "      <td>1536.520</td>\n",
       "      <td>1382.8680</td>\n",
       "      <td>203.6520</td>\n",
       "      <td>0</td>\n",
       "    </tr>\n",
       "    <tr>\n",
       "      <th>3</th>\n",
       "      <td>10</td>\n",
       "      <td>0</td>\n",
       "      <td>38</td>\n",
       "      <td>0</td>\n",
       "      <td>4198</td>\n",
       "      <td>66</td>\n",
       "      <td>1</td>\n",
       "      <td>35</td>\n",
       "      <td>1</td>\n",
       "      <td>1</td>\n",
       "      <td>1</td>\n",
       "      <td>15</td>\n",
       "      <td>240.020</td>\n",
       "      <td>216.0180</td>\n",
       "      <td>74.0020</td>\n",
       "      <td>0</td>\n",
       "    </tr>\n",
       "    <tr>\n",
       "      <th>4</th>\n",
       "      <td>3</td>\n",
       "      <td>0</td>\n",
       "      <td>38</td>\n",
       "      <td>0</td>\n",
       "      <td>2393</td>\n",
       "      <td>58</td>\n",
       "      <td>2</td>\n",
       "      <td>33</td>\n",
       "      <td>1</td>\n",
       "      <td>1</td>\n",
       "      <td>1</td>\n",
       "      <td>15</td>\n",
       "      <td>145.805</td>\n",
       "      <td>131.2245</td>\n",
       "      <td>64.5805</td>\n",
       "      <td>0</td>\n",
       "    </tr>\n",
       "    <tr>\n",
       "      <th>...</th>\n",
       "      <td>...</td>\n",
       "      <td>...</td>\n",
       "      <td>...</td>\n",
       "      <td>...</td>\n",
       "      <td>...</td>\n",
       "      <td>...</td>\n",
       "      <td>...</td>\n",
       "      <td>...</td>\n",
       "      <td>...</td>\n",
       "      <td>...</td>\n",
       "      <td>...</td>\n",
       "      <td>...</td>\n",
       "      <td>...</td>\n",
       "      <td>...</td>\n",
       "      <td>...</td>\n",
       "      <td>...</td>\n",
       "    </tr>\n",
       "    <tr>\n",
       "      <th>3145</th>\n",
       "      <td>21</td>\n",
       "      <td>0</td>\n",
       "      <td>19</td>\n",
       "      <td>2</td>\n",
       "      <td>6697</td>\n",
       "      <td>147</td>\n",
       "      <td>92</td>\n",
       "      <td>44</td>\n",
       "      <td>2</td>\n",
       "      <td>2</td>\n",
       "      <td>1</td>\n",
       "      <td>25</td>\n",
       "      <td>721.980</td>\n",
       "      <td>649.7820</td>\n",
       "      <td>122.1980</td>\n",
       "      <td>0</td>\n",
       "    </tr>\n",
       "    <tr>\n",
       "      <th>3146</th>\n",
       "      <td>17</td>\n",
       "      <td>0</td>\n",
       "      <td>17</td>\n",
       "      <td>1</td>\n",
       "      <td>9237</td>\n",
       "      <td>177</td>\n",
       "      <td>80</td>\n",
       "      <td>42</td>\n",
       "      <td>5</td>\n",
       "      <td>1</td>\n",
       "      <td>1</td>\n",
       "      <td>55</td>\n",
       "      <td>261.210</td>\n",
       "      <td>235.0890</td>\n",
       "      <td>76.1210</td>\n",
       "      <td>0</td>\n",
       "    </tr>\n",
       "    <tr>\n",
       "      <th>3147</th>\n",
       "      <td>13</td>\n",
       "      <td>0</td>\n",
       "      <td>18</td>\n",
       "      <td>4</td>\n",
       "      <td>3157</td>\n",
       "      <td>51</td>\n",
       "      <td>38</td>\n",
       "      <td>21</td>\n",
       "      <td>3</td>\n",
       "      <td>1</td>\n",
       "      <td>1</td>\n",
       "      <td>30</td>\n",
       "      <td>280.320</td>\n",
       "      <td>252.2880</td>\n",
       "      <td>78.0320</td>\n",
       "      <td>0</td>\n",
       "    </tr>\n",
       "    <tr>\n",
       "      <th>3148</th>\n",
       "      <td>7</td>\n",
       "      <td>0</td>\n",
       "      <td>11</td>\n",
       "      <td>2</td>\n",
       "      <td>4695</td>\n",
       "      <td>46</td>\n",
       "      <td>222</td>\n",
       "      <td>12</td>\n",
       "      <td>3</td>\n",
       "      <td>1</td>\n",
       "      <td>1</td>\n",
       "      <td>30</td>\n",
       "      <td>1077.640</td>\n",
       "      <td>969.8760</td>\n",
       "      <td>157.7640</td>\n",
       "      <td>0</td>\n",
       "    </tr>\n",
       "    <tr>\n",
       "      <th>3149</th>\n",
       "      <td>8</td>\n",
       "      <td>1</td>\n",
       "      <td>11</td>\n",
       "      <td>2</td>\n",
       "      <td>1792</td>\n",
       "      <td>25</td>\n",
       "      <td>7</td>\n",
       "      <td>9</td>\n",
       "      <td>3</td>\n",
       "      <td>1</td>\n",
       "      <td>1</td>\n",
       "      <td>30</td>\n",
       "      <td>100.680</td>\n",
       "      <td>90.6120</td>\n",
       "      <td>60.0680</td>\n",
       "      <td>1</td>\n",
       "    </tr>\n",
       "  </tbody>\n",
       "</table>\n",
       "<p>3150 rows × 16 columns</p>\n",
       "</div>"
      ],
      "text/plain": [
       "      Call  Failure  Complains  Subscription  Length  Charge  Amount  \\\n",
       "0                 8          0                    38               0   \n",
       "1                 0          0                    39               0   \n",
       "2                10          0                    37               0   \n",
       "3                10          0                    38               0   \n",
       "4                 3          0                    38               0   \n",
       "...             ...        ...                   ...             ...   \n",
       "3145             21          0                    19               2   \n",
       "3146             17          0                    17               1   \n",
       "3147             13          0                    18               4   \n",
       "3148              7          0                    11               2   \n",
       "3149              8          1                    11               2   \n",
       "\n",
       "      Seconds of Use  Frequency of use  Frequency of SMS  \\\n",
       "0               4370                71                 5   \n",
       "1                318                 5                 7   \n",
       "2               2453                60               359   \n",
       "3               4198                66                 1   \n",
       "4               2393                58                 2   \n",
       "...              ...               ...               ...   \n",
       "3145            6697               147                92   \n",
       "3146            9237               177                80   \n",
       "3147            3157                51                38   \n",
       "3148            4695                46               222   \n",
       "3149            1792                25                 7   \n",
       "\n",
       "      Distinct Called Numbers  Age Group  Tariff Plan  Status  Age  \\\n",
       "0                          17          3            1       1   30   \n",
       "1                           4          2            1       2   25   \n",
       "2                          24          3            1       1   30   \n",
       "3                          35          1            1       1   15   \n",
       "4                          33          1            1       1   15   \n",
       "...                       ...        ...          ...     ...  ...   \n",
       "3145                       44          2            2       1   25   \n",
       "3146                       42          5            1       1   55   \n",
       "3147                       21          3            1       1   30   \n",
       "3148                       12          3            1       1   30   \n",
       "3149                        9          3            1       1   30   \n",
       "\n",
       "      Customer Value         FN        FP  Churn  \n",
       "0            197.640   177.8760   69.7640      0  \n",
       "1             46.035    41.4315   60.0000      0  \n",
       "2           1536.520  1382.8680  203.6520      0  \n",
       "3            240.020   216.0180   74.0020      0  \n",
       "4            145.805   131.2245   64.5805      0  \n",
       "...              ...        ...       ...    ...  \n",
       "3145         721.980   649.7820  122.1980      0  \n",
       "3146         261.210   235.0890   76.1210      0  \n",
       "3147         280.320   252.2880   78.0320      0  \n",
       "3148        1077.640   969.8760  157.7640      0  \n",
       "3149         100.680    90.6120   60.0680      1  \n",
       "\n",
       "[3150 rows x 16 columns]"
      ]
     },
     "execution_count": 3,
     "metadata": {},
     "output_type": "execute_result"
    }
   ],
   "source": [
    "# loading the dataset\n",
    "path = 'Customer Churn.csv'\n",
    "churn_data = pd.read_csv(path)\n",
    "\n",
    "churn_data"
   ]
  },
  {
   "cell_type": "code",
   "execution_count": 18,
   "metadata": {},
   "outputs": [
    {
     "name": "stdout",
     "output_type": "stream",
     "text": [
      "<class 'pandas.core.frame.DataFrame'>\n",
      "RangeIndex: 3150 entries, 0 to 3149\n",
      "Data columns (total 16 columns):\n",
      " #   Column                   Non-Null Count  Dtype  \n",
      "---  ------                   --------------  -----  \n",
      " 0   Call  Failure            3150 non-null   int64  \n",
      " 1   Complains                3150 non-null   int64  \n",
      " 2   Subscription  Length     3150 non-null   int64  \n",
      " 3   Charge  Amount           3150 non-null   int64  \n",
      " 4   Seconds of Use           3150 non-null   int64  \n",
      " 5   Frequency of use         3150 non-null   int64  \n",
      " 6   Frequency of SMS         3150 non-null   int64  \n",
      " 7   Distinct Called Numbers  3150 non-null   int64  \n",
      " 8   Age Group                3150 non-null   int64  \n",
      " 9   Tariff Plan              3150 non-null   int64  \n",
      " 10  Status                   3150 non-null   int64  \n",
      " 11  Age                      3150 non-null   int64  \n",
      " 12  Customer Value           3150 non-null   float64\n",
      " 13  FN                       3150 non-null   float64\n",
      " 14  FP                       3150 non-null   float64\n",
      " 15  Churn                    3150 non-null   int64  \n",
      "dtypes: float64(3), int64(13)\n",
      "memory usage: 393.9 KB\n"
     ]
    }
   ],
   "source": [
    "# scanning through the data types\n",
    "churn_data.info()"
   ]
  },
  {
   "cell_type": "code",
   "execution_count": 22,
   "metadata": {},
   "outputs": [
    {
     "data": {
      "text/plain": [
       "Index(['Call  Failure', 'Complains', 'Subscription  Length', 'Charge  Amount',\n",
       "       'Seconds of Use', 'Frequency of use', 'Frequency of SMS',\n",
       "       'Distinct Called Numbers', 'Age Group', 'Tariff Plan', 'Status', 'Age',\n",
       "       'Customer Value', 'FN', 'FP', 'Churn'],\n",
       "      dtype='object')"
      ]
     },
     "execution_count": 22,
     "metadata": {},
     "output_type": "execute_result"
    }
   ],
   "source": [
    "# a view of all the column\n",
    "churn_data.columns"
   ]
  },
  {
   "cell_type": "code",
   "execution_count": 17,
   "metadata": {},
   "outputs": [
    {
     "data": {
      "text/plain": [
       "(3150, 16)"
      ]
     },
     "execution_count": 17,
     "metadata": {},
     "output_type": "execute_result"
    }
   ],
   "source": [
    "# knowing the  dimensions of the data frame\n",
    "churn_data.shape"
   ]
  },
  {
   "cell_type": "code",
   "execution_count": 119,
   "metadata": {},
   "outputs": [
    {
     "data": {
      "text/html": [
       "<div>\n",
       "<style scoped>\n",
       "    .dataframe tbody tr th:only-of-type {\n",
       "        vertical-align: middle;\n",
       "    }\n",
       "\n",
       "    .dataframe tbody tr th {\n",
       "        vertical-align: top;\n",
       "    }\n",
       "\n",
       "    .dataframe thead th {\n",
       "        text-align: right;\n",
       "    }\n",
       "</style>\n",
       "<table border=\"1\" class=\"dataframe\">\n",
       "  <thead>\n",
       "    <tr style=\"text-align: right;\">\n",
       "      <th></th>\n",
       "      <th>Call_Failure</th>\n",
       "      <th>Complains</th>\n",
       "      <th>Subscription_Length</th>\n",
       "      <th>Charge_Amount</th>\n",
       "      <th>Seconds_of_Use</th>\n",
       "      <th>Frequency_of_use</th>\n",
       "      <th>Frequency_of_SMS</th>\n",
       "      <th>Distinct_Called_Numbers</th>\n",
       "      <th>Age_Group</th>\n",
       "      <th>Tariff_Plan</th>\n",
       "      <th>Status</th>\n",
       "      <th>Age</th>\n",
       "      <th>Customer_Value</th>\n",
       "      <th>FN</th>\n",
       "      <th>FP</th>\n",
       "      <th>Churn</th>\n",
       "    </tr>\n",
       "  </thead>\n",
       "  <tbody>\n",
       "    <tr>\n",
       "      <th>count</th>\n",
       "      <td>3150.000000</td>\n",
       "      <td>3150.000000</td>\n",
       "      <td>3150.000000</td>\n",
       "      <td>3150.000000</td>\n",
       "      <td>3150.000000</td>\n",
       "      <td>3150.000000</td>\n",
       "      <td>3150.000000</td>\n",
       "      <td>3150.000000</td>\n",
       "      <td>3150.000000</td>\n",
       "      <td>3150.000000</td>\n",
       "      <td>3150.000000</td>\n",
       "      <td>3150.000000</td>\n",
       "      <td>3150.000000</td>\n",
       "      <td>3150.000000</td>\n",
       "      <td>3150.000000</td>\n",
       "      <td>3150.000000</td>\n",
       "    </tr>\n",
       "    <tr>\n",
       "      <th>mean</th>\n",
       "      <td>7.627937</td>\n",
       "      <td>0.076508</td>\n",
       "      <td>32.541905</td>\n",
       "      <td>0.942857</td>\n",
       "      <td>4472.459683</td>\n",
       "      <td>69.460635</td>\n",
       "      <td>73.174921</td>\n",
       "      <td>23.509841</td>\n",
       "      <td>2.826032</td>\n",
       "      <td>1.077778</td>\n",
       "      <td>1.248254</td>\n",
       "      <td>30.998413</td>\n",
       "      <td>470.972916</td>\n",
       "      <td>423.875624</td>\n",
       "      <td>98.304688</td>\n",
       "      <td>0.157143</td>\n",
       "    </tr>\n",
       "    <tr>\n",
       "      <th>std</th>\n",
       "      <td>7.263886</td>\n",
       "      <td>0.265851</td>\n",
       "      <td>8.573482</td>\n",
       "      <td>1.521072</td>\n",
       "      <td>4197.908687</td>\n",
       "      <td>57.413308</td>\n",
       "      <td>112.237560</td>\n",
       "      <td>17.217337</td>\n",
       "      <td>0.892555</td>\n",
       "      <td>0.267864</td>\n",
       "      <td>0.432069</td>\n",
       "      <td>8.831095</td>\n",
       "      <td>517.015433</td>\n",
       "      <td>465.313890</td>\n",
       "      <td>50.724492</td>\n",
       "      <td>0.363993</td>\n",
       "    </tr>\n",
       "    <tr>\n",
       "      <th>min</th>\n",
       "      <td>0.000000</td>\n",
       "      <td>0.000000</td>\n",
       "      <td>3.000000</td>\n",
       "      <td>0.000000</td>\n",
       "      <td>0.000000</td>\n",
       "      <td>0.000000</td>\n",
       "      <td>0.000000</td>\n",
       "      <td>0.000000</td>\n",
       "      <td>1.000000</td>\n",
       "      <td>1.000000</td>\n",
       "      <td>1.000000</td>\n",
       "      <td>15.000000</td>\n",
       "      <td>0.000000</td>\n",
       "      <td>0.000000</td>\n",
       "      <td>60.000000</td>\n",
       "      <td>0.000000</td>\n",
       "    </tr>\n",
       "    <tr>\n",
       "      <th>25%</th>\n",
       "      <td>1.000000</td>\n",
       "      <td>0.000000</td>\n",
       "      <td>30.000000</td>\n",
       "      <td>0.000000</td>\n",
       "      <td>1391.250000</td>\n",
       "      <td>27.000000</td>\n",
       "      <td>6.000000</td>\n",
       "      <td>10.000000</td>\n",
       "      <td>2.000000</td>\n",
       "      <td>1.000000</td>\n",
       "      <td>1.000000</td>\n",
       "      <td>25.000000</td>\n",
       "      <td>113.801250</td>\n",
       "      <td>102.421125</td>\n",
       "      <td>61.380125</td>\n",
       "      <td>0.000000</td>\n",
       "    </tr>\n",
       "    <tr>\n",
       "      <th>50%</th>\n",
       "      <td>6.000000</td>\n",
       "      <td>0.000000</td>\n",
       "      <td>35.000000</td>\n",
       "      <td>0.000000</td>\n",
       "      <td>2990.000000</td>\n",
       "      <td>54.000000</td>\n",
       "      <td>21.000000</td>\n",
       "      <td>21.000000</td>\n",
       "      <td>3.000000</td>\n",
       "      <td>1.000000</td>\n",
       "      <td>1.000000</td>\n",
       "      <td>30.000000</td>\n",
       "      <td>228.480000</td>\n",
       "      <td>205.632000</td>\n",
       "      <td>72.848000</td>\n",
       "      <td>0.000000</td>\n",
       "    </tr>\n",
       "    <tr>\n",
       "      <th>75%</th>\n",
       "      <td>12.000000</td>\n",
       "      <td>0.000000</td>\n",
       "      <td>38.000000</td>\n",
       "      <td>1.000000</td>\n",
       "      <td>6478.250000</td>\n",
       "      <td>95.000000</td>\n",
       "      <td>87.000000</td>\n",
       "      <td>34.000000</td>\n",
       "      <td>3.000000</td>\n",
       "      <td>1.000000</td>\n",
       "      <td>1.000000</td>\n",
       "      <td>30.000000</td>\n",
       "      <td>788.388750</td>\n",
       "      <td>709.549875</td>\n",
       "      <td>128.838875</td>\n",
       "      <td>0.000000</td>\n",
       "    </tr>\n",
       "    <tr>\n",
       "      <th>max</th>\n",
       "      <td>36.000000</td>\n",
       "      <td>1.000000</td>\n",
       "      <td>47.000000</td>\n",
       "      <td>10.000000</td>\n",
       "      <td>17090.000000</td>\n",
       "      <td>255.000000</td>\n",
       "      <td>522.000000</td>\n",
       "      <td>97.000000</td>\n",
       "      <td>5.000000</td>\n",
       "      <td>2.000000</td>\n",
       "      <td>2.000000</td>\n",
       "      <td>55.000000</td>\n",
       "      <td>2165.280000</td>\n",
       "      <td>1948.752000</td>\n",
       "      <td>266.528000</td>\n",
       "      <td>1.000000</td>\n",
       "    </tr>\n",
       "  </tbody>\n",
       "</table>\n",
       "</div>"
      ],
      "text/plain": [
       "       Call_Failure    Complains  Subscription_Length  Charge_Amount  \\\n",
       "count   3150.000000  3150.000000          3150.000000    3150.000000   \n",
       "mean       7.627937     0.076508            32.541905       0.942857   \n",
       "std        7.263886     0.265851             8.573482       1.521072   \n",
       "min        0.000000     0.000000             3.000000       0.000000   \n",
       "25%        1.000000     0.000000            30.000000       0.000000   \n",
       "50%        6.000000     0.000000            35.000000       0.000000   \n",
       "75%       12.000000     0.000000            38.000000       1.000000   \n",
       "max       36.000000     1.000000            47.000000      10.000000   \n",
       "\n",
       "       Seconds_of_Use  Frequency_of_use  Frequency_of_SMS  \\\n",
       "count     3150.000000       3150.000000       3150.000000   \n",
       "mean      4472.459683         69.460635         73.174921   \n",
       "std       4197.908687         57.413308        112.237560   \n",
       "min          0.000000          0.000000          0.000000   \n",
       "25%       1391.250000         27.000000          6.000000   \n",
       "50%       2990.000000         54.000000         21.000000   \n",
       "75%       6478.250000         95.000000         87.000000   \n",
       "max      17090.000000        255.000000        522.000000   \n",
       "\n",
       "       Distinct_Called_Numbers    Age_Group  Tariff_Plan       Status  \\\n",
       "count              3150.000000  3150.000000  3150.000000  3150.000000   \n",
       "mean                 23.509841     2.826032     1.077778     1.248254   \n",
       "std                  17.217337     0.892555     0.267864     0.432069   \n",
       "min                   0.000000     1.000000     1.000000     1.000000   \n",
       "25%                  10.000000     2.000000     1.000000     1.000000   \n",
       "50%                  21.000000     3.000000     1.000000     1.000000   \n",
       "75%                  34.000000     3.000000     1.000000     1.000000   \n",
       "max                  97.000000     5.000000     2.000000     2.000000   \n",
       "\n",
       "               Age  Customer_Value           FN           FP        Churn  \n",
       "count  3150.000000     3150.000000  3150.000000  3150.000000  3150.000000  \n",
       "mean     30.998413      470.972916   423.875624    98.304688     0.157143  \n",
       "std       8.831095      517.015433   465.313890    50.724492     0.363993  \n",
       "min      15.000000        0.000000     0.000000    60.000000     0.000000  \n",
       "25%      25.000000      113.801250   102.421125    61.380125     0.000000  \n",
       "50%      30.000000      228.480000   205.632000    72.848000     0.000000  \n",
       "75%      30.000000      788.388750   709.549875   128.838875     0.000000  \n",
       "max      55.000000     2165.280000  1948.752000   266.528000     1.000000  "
      ]
     },
     "execution_count": 119,
     "metadata": {},
     "output_type": "execute_result"
    }
   ],
   "source": [
    "# overview of a dataset, gives the statistical breakdown of the data frame\n",
    "churn_data.describe()"
   ]
  },
  {
   "cell_type": "code",
   "execution_count": 36,
   "metadata": {},
   "outputs": [
    {
     "data": {
      "text/plain": [
       "Call_Failure               0\n",
       "Complains                  0\n",
       "Subscription_Length        0\n",
       "Charge_Amount              0\n",
       "Seconds_of_Use             0\n",
       "Frequency_of_use           0\n",
       "Frequency_of_SMS           0\n",
       "Distinct_Called_Numbers    0\n",
       "Age_Group                  0\n",
       "Tariff_Plan                0\n",
       "Status                     0\n",
       "Age                        0\n",
       "Customer_Value             0\n",
       "FN                         0\n",
       "FP                         0\n",
       "Churn                      0\n",
       "dtype: int64"
      ]
     },
     "execution_count": 36,
     "metadata": {},
     "output_type": "execute_result"
    }
   ],
   "source": [
    "# checking for null values\n",
    "\n",
    "churn_data.isnull().sum()"
   ]
  },
  {
   "cell_type": "markdown",
   "metadata": {},
   "source": [
    "### *From the dataset, there is no missing data*"
   ]
  },
  {
   "cell_type": "code",
   "execution_count": 23,
   "metadata": {},
   "outputs": [
    {
     "data": {
      "text/plain": [
       "RangeIndex(start=0, stop=3150, step=1)"
      ]
     },
     "execution_count": 23,
     "metadata": {},
     "output_type": "execute_result"
    }
   ],
   "source": [
    "# searching through the index dataset \n",
    "churn_data.index"
   ]
  },
  {
   "cell_type": "code",
   "execution_count": 4,
   "metadata": {},
   "outputs": [
    {
     "data": {
      "text/html": [
       "<div>\n",
       "<style scoped>\n",
       "    .dataframe tbody tr th:only-of-type {\n",
       "        vertical-align: middle;\n",
       "    }\n",
       "\n",
       "    .dataframe tbody tr th {\n",
       "        vertical-align: top;\n",
       "    }\n",
       "\n",
       "    .dataframe thead th {\n",
       "        text-align: right;\n",
       "    }\n",
       "</style>\n",
       "<table border=\"1\" class=\"dataframe\">\n",
       "  <thead>\n",
       "    <tr style=\"text-align: right;\">\n",
       "      <th></th>\n",
       "      <th>Call_Failure</th>\n",
       "      <th>Complains</th>\n",
       "      <th>Subscription_Length</th>\n",
       "      <th>Charge_Amount</th>\n",
       "      <th>Seconds_of_Use</th>\n",
       "      <th>Frequency_of_Use</th>\n",
       "      <th>Frequency_of_Sms</th>\n",
       "      <th>Distinct_Called_Numbers</th>\n",
       "      <th>Age_Group</th>\n",
       "      <th>Tariff_Plan</th>\n",
       "      <th>Status</th>\n",
       "      <th>Age</th>\n",
       "      <th>Customer_Value</th>\n",
       "      <th>FN</th>\n",
       "      <th>FP</th>\n",
       "      <th>Churn</th>\n",
       "    </tr>\n",
       "  </thead>\n",
       "  <tbody>\n",
       "    <tr>\n",
       "      <th>0</th>\n",
       "      <td>8</td>\n",
       "      <td>0</td>\n",
       "      <td>38</td>\n",
       "      <td>0</td>\n",
       "      <td>4370</td>\n",
       "      <td>71</td>\n",
       "      <td>5</td>\n",
       "      <td>17</td>\n",
       "      <td>3</td>\n",
       "      <td>1</td>\n",
       "      <td>1</td>\n",
       "      <td>30</td>\n",
       "      <td>197.640</td>\n",
       "      <td>177.8760</td>\n",
       "      <td>69.7640</td>\n",
       "      <td>0</td>\n",
       "    </tr>\n",
       "    <tr>\n",
       "      <th>1</th>\n",
       "      <td>0</td>\n",
       "      <td>0</td>\n",
       "      <td>39</td>\n",
       "      <td>0</td>\n",
       "      <td>318</td>\n",
       "      <td>5</td>\n",
       "      <td>7</td>\n",
       "      <td>4</td>\n",
       "      <td>2</td>\n",
       "      <td>1</td>\n",
       "      <td>2</td>\n",
       "      <td>25</td>\n",
       "      <td>46.035</td>\n",
       "      <td>41.4315</td>\n",
       "      <td>60.0000</td>\n",
       "      <td>0</td>\n",
       "    </tr>\n",
       "    <tr>\n",
       "      <th>2</th>\n",
       "      <td>10</td>\n",
       "      <td>0</td>\n",
       "      <td>37</td>\n",
       "      <td>0</td>\n",
       "      <td>2453</td>\n",
       "      <td>60</td>\n",
       "      <td>359</td>\n",
       "      <td>24</td>\n",
       "      <td>3</td>\n",
       "      <td>1</td>\n",
       "      <td>1</td>\n",
       "      <td>30</td>\n",
       "      <td>1536.520</td>\n",
       "      <td>1382.8680</td>\n",
       "      <td>203.6520</td>\n",
       "      <td>0</td>\n",
       "    </tr>\n",
       "    <tr>\n",
       "      <th>3</th>\n",
       "      <td>10</td>\n",
       "      <td>0</td>\n",
       "      <td>38</td>\n",
       "      <td>0</td>\n",
       "      <td>4198</td>\n",
       "      <td>66</td>\n",
       "      <td>1</td>\n",
       "      <td>35</td>\n",
       "      <td>1</td>\n",
       "      <td>1</td>\n",
       "      <td>1</td>\n",
       "      <td>15</td>\n",
       "      <td>240.020</td>\n",
       "      <td>216.0180</td>\n",
       "      <td>74.0020</td>\n",
       "      <td>0</td>\n",
       "    </tr>\n",
       "    <tr>\n",
       "      <th>4</th>\n",
       "      <td>3</td>\n",
       "      <td>0</td>\n",
       "      <td>38</td>\n",
       "      <td>0</td>\n",
       "      <td>2393</td>\n",
       "      <td>58</td>\n",
       "      <td>2</td>\n",
       "      <td>33</td>\n",
       "      <td>1</td>\n",
       "      <td>1</td>\n",
       "      <td>1</td>\n",
       "      <td>15</td>\n",
       "      <td>145.805</td>\n",
       "      <td>131.2245</td>\n",
       "      <td>64.5805</td>\n",
       "      <td>0</td>\n",
       "    </tr>\n",
       "  </tbody>\n",
       "</table>\n",
       "</div>"
      ],
      "text/plain": [
       "   Call_Failure  Complains  Subscription_Length  Charge_Amount  \\\n",
       "0             8          0                   38              0   \n",
       "1             0          0                   39              0   \n",
       "2            10          0                   37              0   \n",
       "3            10          0                   38              0   \n",
       "4             3          0                   38              0   \n",
       "\n",
       "   Seconds_of_Use  Frequency_of_Use  Frequency_of_Sms  \\\n",
       "0            4370                71                 5   \n",
       "1             318                 5                 7   \n",
       "2            2453                60               359   \n",
       "3            4198                66                 1   \n",
       "4            2393                58                 2   \n",
       "\n",
       "   Distinct_Called_Numbers  Age_Group  Tariff_Plan  Status  Age  \\\n",
       "0                       17          3            1       1   30   \n",
       "1                        4          2            1       2   25   \n",
       "2                       24          3            1       1   30   \n",
       "3                       35          1            1       1   15   \n",
       "4                       33          1            1       1   15   \n",
       "\n",
       "   Customer_Value         FN        FP  Churn  \n",
       "0         197.640   177.8760   69.7640      0  \n",
       "1          46.035    41.4315   60.0000      0  \n",
       "2        1536.520  1382.8680  203.6520      0  \n",
       "3         240.020   216.0180   74.0020      0  \n",
       "4         145.805   131.2245   64.5805      0  "
      ]
     },
     "execution_count": 4,
     "metadata": {},
     "output_type": "execute_result"
    }
   ],
   "source": [
    "# renaming column\n",
    "churn_data.columns = ['Call_Failure', 'Complains', 'Subscription_Length', 'Charge_Amount',\n",
    "       'Seconds_of_Use', 'Frequency_of_Use', 'Frequency_of_Sms',\n",
    "       'Distinct_Called_Numbers', 'Age_Group', 'Tariff_Plan', 'Status', 'Age',\n",
    "       'Customer_Value', 'FN', 'FP', 'Churn']\n",
    "\n",
    "churn_data.head()"
   ]
  },
  {
   "cell_type": "code",
   "execution_count": 5,
   "metadata": {},
   "outputs": [
    {
     "data": {
      "text/html": [
       "<div>\n",
       "<style scoped>\n",
       "    .dataframe tbody tr th:only-of-type {\n",
       "        vertical-align: middle;\n",
       "    }\n",
       "\n",
       "    .dataframe tbody tr th {\n",
       "        vertical-align: top;\n",
       "    }\n",
       "\n",
       "    .dataframe thead th {\n",
       "        text-align: right;\n",
       "    }\n",
       "</style>\n",
       "<table border=\"1\" class=\"dataframe\">\n",
       "  <thead>\n",
       "    <tr style=\"text-align: right;\">\n",
       "      <th></th>\n",
       "      <th>Call_Failure</th>\n",
       "      <th>Complains</th>\n",
       "      <th>Subscription_Length</th>\n",
       "      <th>Charge_Amount</th>\n",
       "      <th>Seconds_of_Use</th>\n",
       "      <th>Frequency_of_Use</th>\n",
       "      <th>Frequency_of_Sms</th>\n",
       "      <th>Distinct_Called_Numbers</th>\n",
       "      <th>Age_Group</th>\n",
       "      <th>Tariff_Plan</th>\n",
       "      <th>Status</th>\n",
       "      <th>Customer_Value</th>\n",
       "      <th>Churn</th>\n",
       "    </tr>\n",
       "  </thead>\n",
       "  <tbody>\n",
       "    <tr>\n",
       "      <th>0</th>\n",
       "      <td>8</td>\n",
       "      <td>0</td>\n",
       "      <td>38</td>\n",
       "      <td>0</td>\n",
       "      <td>4370</td>\n",
       "      <td>71</td>\n",
       "      <td>5</td>\n",
       "      <td>17</td>\n",
       "      <td>3</td>\n",
       "      <td>1</td>\n",
       "      <td>1</td>\n",
       "      <td>197.640</td>\n",
       "      <td>0</td>\n",
       "    </tr>\n",
       "    <tr>\n",
       "      <th>1</th>\n",
       "      <td>0</td>\n",
       "      <td>0</td>\n",
       "      <td>39</td>\n",
       "      <td>0</td>\n",
       "      <td>318</td>\n",
       "      <td>5</td>\n",
       "      <td>7</td>\n",
       "      <td>4</td>\n",
       "      <td>2</td>\n",
       "      <td>1</td>\n",
       "      <td>2</td>\n",
       "      <td>46.035</td>\n",
       "      <td>0</td>\n",
       "    </tr>\n",
       "    <tr>\n",
       "      <th>2</th>\n",
       "      <td>10</td>\n",
       "      <td>0</td>\n",
       "      <td>37</td>\n",
       "      <td>0</td>\n",
       "      <td>2453</td>\n",
       "      <td>60</td>\n",
       "      <td>359</td>\n",
       "      <td>24</td>\n",
       "      <td>3</td>\n",
       "      <td>1</td>\n",
       "      <td>1</td>\n",
       "      <td>1536.520</td>\n",
       "      <td>0</td>\n",
       "    </tr>\n",
       "    <tr>\n",
       "      <th>3</th>\n",
       "      <td>10</td>\n",
       "      <td>0</td>\n",
       "      <td>38</td>\n",
       "      <td>0</td>\n",
       "      <td>4198</td>\n",
       "      <td>66</td>\n",
       "      <td>1</td>\n",
       "      <td>35</td>\n",
       "      <td>1</td>\n",
       "      <td>1</td>\n",
       "      <td>1</td>\n",
       "      <td>240.020</td>\n",
       "      <td>0</td>\n",
       "    </tr>\n",
       "    <tr>\n",
       "      <th>4</th>\n",
       "      <td>3</td>\n",
       "      <td>0</td>\n",
       "      <td>38</td>\n",
       "      <td>0</td>\n",
       "      <td>2393</td>\n",
       "      <td>58</td>\n",
       "      <td>2</td>\n",
       "      <td>33</td>\n",
       "      <td>1</td>\n",
       "      <td>1</td>\n",
       "      <td>1</td>\n",
       "      <td>145.805</td>\n",
       "      <td>0</td>\n",
       "    </tr>\n",
       "    <tr>\n",
       "      <th>...</th>\n",
       "      <td>...</td>\n",
       "      <td>...</td>\n",
       "      <td>...</td>\n",
       "      <td>...</td>\n",
       "      <td>...</td>\n",
       "      <td>...</td>\n",
       "      <td>...</td>\n",
       "      <td>...</td>\n",
       "      <td>...</td>\n",
       "      <td>...</td>\n",
       "      <td>...</td>\n",
       "      <td>...</td>\n",
       "      <td>...</td>\n",
       "    </tr>\n",
       "    <tr>\n",
       "      <th>3145</th>\n",
       "      <td>21</td>\n",
       "      <td>0</td>\n",
       "      <td>19</td>\n",
       "      <td>2</td>\n",
       "      <td>6697</td>\n",
       "      <td>147</td>\n",
       "      <td>92</td>\n",
       "      <td>44</td>\n",
       "      <td>2</td>\n",
       "      <td>2</td>\n",
       "      <td>1</td>\n",
       "      <td>721.980</td>\n",
       "      <td>0</td>\n",
       "    </tr>\n",
       "    <tr>\n",
       "      <th>3146</th>\n",
       "      <td>17</td>\n",
       "      <td>0</td>\n",
       "      <td>17</td>\n",
       "      <td>1</td>\n",
       "      <td>9237</td>\n",
       "      <td>177</td>\n",
       "      <td>80</td>\n",
       "      <td>42</td>\n",
       "      <td>5</td>\n",
       "      <td>1</td>\n",
       "      <td>1</td>\n",
       "      <td>261.210</td>\n",
       "      <td>0</td>\n",
       "    </tr>\n",
       "    <tr>\n",
       "      <th>3147</th>\n",
       "      <td>13</td>\n",
       "      <td>0</td>\n",
       "      <td>18</td>\n",
       "      <td>4</td>\n",
       "      <td>3157</td>\n",
       "      <td>51</td>\n",
       "      <td>38</td>\n",
       "      <td>21</td>\n",
       "      <td>3</td>\n",
       "      <td>1</td>\n",
       "      <td>1</td>\n",
       "      <td>280.320</td>\n",
       "      <td>0</td>\n",
       "    </tr>\n",
       "    <tr>\n",
       "      <th>3148</th>\n",
       "      <td>7</td>\n",
       "      <td>0</td>\n",
       "      <td>11</td>\n",
       "      <td>2</td>\n",
       "      <td>4695</td>\n",
       "      <td>46</td>\n",
       "      <td>222</td>\n",
       "      <td>12</td>\n",
       "      <td>3</td>\n",
       "      <td>1</td>\n",
       "      <td>1</td>\n",
       "      <td>1077.640</td>\n",
       "      <td>0</td>\n",
       "    </tr>\n",
       "    <tr>\n",
       "      <th>3149</th>\n",
       "      <td>8</td>\n",
       "      <td>1</td>\n",
       "      <td>11</td>\n",
       "      <td>2</td>\n",
       "      <td>1792</td>\n",
       "      <td>25</td>\n",
       "      <td>7</td>\n",
       "      <td>9</td>\n",
       "      <td>3</td>\n",
       "      <td>1</td>\n",
       "      <td>1</td>\n",
       "      <td>100.680</td>\n",
       "      <td>1</td>\n",
       "    </tr>\n",
       "  </tbody>\n",
       "</table>\n",
       "<p>3150 rows × 13 columns</p>\n",
       "</div>"
      ],
      "text/plain": [
       "      Call_Failure  Complains  Subscription_Length  Charge_Amount  \\\n",
       "0                8          0                   38              0   \n",
       "1                0          0                   39              0   \n",
       "2               10          0                   37              0   \n",
       "3               10          0                   38              0   \n",
       "4                3          0                   38              0   \n",
       "...            ...        ...                  ...            ...   \n",
       "3145            21          0                   19              2   \n",
       "3146            17          0                   17              1   \n",
       "3147            13          0                   18              4   \n",
       "3148             7          0                   11              2   \n",
       "3149             8          1                   11              2   \n",
       "\n",
       "      Seconds_of_Use  Frequency_of_Use  Frequency_of_Sms  \\\n",
       "0               4370                71                 5   \n",
       "1                318                 5                 7   \n",
       "2               2453                60               359   \n",
       "3               4198                66                 1   \n",
       "4               2393                58                 2   \n",
       "...              ...               ...               ...   \n",
       "3145            6697               147                92   \n",
       "3146            9237               177                80   \n",
       "3147            3157                51                38   \n",
       "3148            4695                46               222   \n",
       "3149            1792                25                 7   \n",
       "\n",
       "      Distinct_Called_Numbers  Age_Group  Tariff_Plan  Status  Customer_Value  \\\n",
       "0                          17          3            1       1         197.640   \n",
       "1                           4          2            1       2          46.035   \n",
       "2                          24          3            1       1        1536.520   \n",
       "3                          35          1            1       1         240.020   \n",
       "4                          33          1            1       1         145.805   \n",
       "...                       ...        ...          ...     ...             ...   \n",
       "3145                       44          2            2       1         721.980   \n",
       "3146                       42          5            1       1         261.210   \n",
       "3147                       21          3            1       1         280.320   \n",
       "3148                       12          3            1       1        1077.640   \n",
       "3149                        9          3            1       1         100.680   \n",
       "\n",
       "      Churn  \n",
       "0         0  \n",
       "1         0  \n",
       "2         0  \n",
       "3         0  \n",
       "4         0  \n",
       "...     ...  \n",
       "3145      0  \n",
       "3146      0  \n",
       "3147      0  \n",
       "3148      0  \n",
       "3149      1  \n",
       "\n",
       "[3150 rows x 13 columns]"
      ]
     },
     "execution_count": 5,
     "metadata": {},
     "output_type": "execute_result"
    }
   ],
   "source": [
    "# removing some features from the dataset, by dropping the unimportant columns as it is not mentioned in the dataset information\n",
    "\n",
    "churn_data.drop(['FN', 'FP', 'Age'], axis=1, inplace=True)\n",
    "churn_data"
   ]
  },
  {
   "cell_type": "markdown",
   "metadata": {},
   "source": [
    "                                               Performing EDA"
   ]
  },
  {
   "cell_type": "code",
   "execution_count": 86,
   "metadata": {},
   "outputs": [
    {
     "data": {
      "text/plain": [
       "0     1768\n",
       "1      617\n",
       "2      395\n",
       "3      199\n",
       "4       76\n",
       "5       30\n",
       "8       19\n",
       "9       14\n",
       "7       14\n",
       "6       11\n",
       "10       7\n",
       "Name: Charge_Amount, dtype: int64"
      ]
     },
     "execution_count": 86,
     "metadata": {},
     "output_type": "execute_result"
    }
   ],
   "source": [
    "# checking through the Charge_Amount column to see what info we are interested in. we are only interested in 0 and 9 \n",
    "churn_data.Charge_Amount.value_counts()"
   ]
  },
  {
   "cell_type": "code",
   "execution_count": 82,
   "metadata": {},
   "outputs": [],
   "source": [
    "# ommitting the information from the Charge_Amount column that does not concern our analysis. \n",
    "#churn_data = churn_data.query('Charge_Amount == \"0\" \"9\"')"
   ]
  },
  {
   "cell_type": "code",
   "execution_count": 100,
   "metadata": {},
   "outputs": [
    {
     "data": {
      "text/plain": [
       "3    1425\n",
       "2    1037\n",
       "4     395\n",
       "5     170\n",
       "1     123\n",
       "Name: Age_Group, dtype: int64"
      ]
     },
     "execution_count": 100,
     "metadata": {},
     "output_type": "execute_result"
    }
   ],
   "source": [
    "churn_data.Age_Group.value_counts()"
   ]
  },
  {
   "cell_type": "code",
   "execution_count": 95,
   "metadata": {},
   "outputs": [],
   "source": [
    "#churn_data = churn_data.query('Age_Group == \"1\" \"5\"')"
   ]
  },
  {
   "cell_type": "code",
   "execution_count": 266,
   "metadata": {},
   "outputs": [
    {
     "data": {
      "text/plain": [
       "0    2655\n",
       "1     495\n",
       "Name: Churn, dtype: int64"
      ]
     },
     "execution_count": 266,
     "metadata": {},
     "output_type": "execute_result"
    }
   ],
   "source": [
    "churn_data['Churn'].value_counts()"
   ]
  },
  {
   "cell_type": "code",
   "execution_count": 265,
   "metadata": {},
   "outputs": [
    {
     "data": {
      "text/plain": [
       "Text(0.5, 1.0, 'Distribution of Churn Customers')"
      ]
     },
     "execution_count": 265,
     "metadata": {},
     "output_type": "execute_result"
    },
    {
     "data": {
      "image/png": "[encoded data removed]",
      "text/plain": [
       "<Figure size 720x720 with 1 Axes>"
      ]
     },
     "metadata": {},
     "output_type": "display_data"
    }
   ],
   "source": [
    "plt.figure(figsize=(10,10))\n",
    "plt.pie(x=[495, 2655], labels=['1','0'], autopct='%1.0f%%', pctdistance=0.5,labeldistance=0.7,colors=['b','r'])\n",
    "plt.title('Distribution of Churn Customers')"
   ]
  },
  {
   "cell_type": "markdown",
   "metadata": {},
   "source": [
    "                                                      Inference\n",
    "\n",
    "### *From the plot above, where 1: churn, 0: non-churn. The probability of Churn is 16%, while the probability of non-Churn is 84%.* \n",
    "### *What this means is that, 84% of Customers will not Churn at the end of 12 months, while 16% of Customers will Churn at the end of 12 months.*"
   ]
  },
  {
   "cell_type": "markdown",
   "metadata": {},
   "source": [
    "                                                   Correlation Matrix"
   ]
  },
  {
   "cell_type": "code",
   "execution_count": 161,
   "metadata": {},
   "outputs": [
    {
     "data": {
      "text/plain": [
       "<AxesSubplot:>"
      ]
     },
     "execution_count": 161,
     "metadata": {},
     "output_type": "execute_result"
    },
    {
     "data": {
      "image/png": "[encoded data removed]",
      "text/plain": [
       "<Figure size 1296x576 with 2 Axes>"
      ]
     },
     "metadata": {
      "needs_background": "light"
     },
     "output_type": "display_data"
    }
   ],
   "source": [
    "corr = churn_data.corr()\n",
    "plt.figure(figsize=(18,8))\n",
    "sns.heatmap(corr, annot = True, cmap='twilight')"
   ]
  },
  {
   "cell_type": "code",
   "execution_count": 242,
   "metadata": {},
   "outputs": [],
   "source": [
    "# creating  correlation matrix for the columns in the dataset and an empty set that will contain all the correlated features\n",
    "correlated_features = set()\n",
    "correlation_matrix = churn_data.corr()"
   ]
  },
  {
   "cell_type": "code",
   "execution_count": 243,
   "metadata": {},
   "outputs": [],
   "source": [
    "# looping through all the columns in the correlation matrix.\n",
    "for i in range(len(correlation_matrix .columns)):\n",
    "    for j in range(i):\n",
    "        if abs(correlation_matrix.iloc[i, j]) > 0.7: # adding the columns with a correlation value of 0.7 to the\n",
    "            colname = correlation_matrix.columns[i]\n",
    "            correlated_features.add(colname)"
   ]
  },
  {
   "cell_type": "code",
   "execution_count": 244,
   "metadata": {},
   "outputs": [
    {
     "data": {
      "text/plain": [
       "6"
      ]
     },
     "execution_count": 244,
     "metadata": {},
     "output_type": "execute_result"
    }
   ],
   "source": [
    "# checking the total length of columns in our dataset\n",
    "len(correlated_features)"
   ]
  },
  {
   "cell_type": "code",
   "execution_count": 245,
   "metadata": {},
   "outputs": [
    {
     "name": "stdout",
     "output_type": "stream",
     "text": [
      "{'Distinct_Called_Numbers', 'Age', 'Frequency_of_use', 'Customer_Value', 'FP', 'FN'}\n"
     ]
    }
   ],
   "source": [
    "# printing the names of the correlated features\n",
    "print(correlated_features)"
   ]
  },
  {
   "cell_type": "markdown",
   "metadata": {},
   "source": [
    "                                                       Inference"
   ]
  },
  {
   "cell_type": "markdown",
   "metadata": {},
   "source": [
    "### *Correlation Matrix is important as it shows if two or more features are mutually correlated, if two or more features are correlated the it means they convey redundant information to the model and hence only one of the correlated features should be retained to reduce the number of features.*\n",
    "\n",
    "### *From the correlation Matrix operation performed above, we can see that features that are correlated are; Distinct_Called_Numbers, Age, Frequency_of_use, Customer_Value, FP, FN. Although some features were initially dropped as it was not stated. However, it should be noted that this features are correlated and can affect the accuracy if not dropped. But since the objective however is to perform EDA, we might as well not perform the drop operation*"
   ]
  },
  {
   "cell_type": "code",
   "execution_count": 268,
   "metadata": {},
   "outputs": [
    {
     "data": {
      "text/plain": [
       "<AxesSubplot:>"
      ]
     },
     "execution_count": 268,
     "metadata": {},
     "output_type": "execute_result"
    },
    {
     "data": {
      "image/png": "[encoded data removed]",
      "text/plain": [
       "<Figure size 720x1008 with 2 Axes>"
      ]
     },
     "metadata": {
      "needs_background": "light"
     },
     "output_type": "display_data"
    }
   ],
   "source": [
    "# getting the correlation values using Pearson's method and then visualize the correlations using Heatmap\n",
    "fig, ax = plt.subplots(figsize=(10,14))\n",
    "churn_data_corr = churn_data.corr()[['Churn']].sort_values(\n",
    "  by='Churn', ascending=False)\n",
    "sns.heatmap(churn_data_corr, annot=True, ax=ax)"
   ]
  },
  {
   "cell_type": "markdown",
   "metadata": {},
   "source": [
    "                                                  Inference"
   ]
  },
  {
   "cell_type": "markdown",
   "metadata": {},
   "source": [
    "### *From the above, Lighter colors in the map indicate higher positive correlation values and darker colors indicate lower positive correlation values and sometimes negative correlation values.*\n",
    "\n",
    "### *Churn is highly and positively correlated with the Complains variable, the Complains variable describes the Complains made by customers. We can also see a positive and high correlation with Status which specifies how active or not a customer is.*\n",
    "\n",
    "### *What this mean is that the correlated features are highly significant in explaining if customers will churn or not.*\n",
    "\n"
   ]
  },
  {
   "cell_type": "code",
   "execution_count": 246,
   "metadata": {},
   "outputs": [],
   "source": [
    "# dropping correlated features\n",
    "churn_data.drop(labels=correlated_features, axis=1, inplace=True)"
   ]
  },
  {
   "cell_type": "code",
   "execution_count": 247,
   "metadata": {},
   "outputs": [
    {
     "data": {
      "text/html": [
       "<div>\n",
       "<style scoped>\n",
       "    .dataframe tbody tr th:only-of-type {\n",
       "        vertical-align: middle;\n",
       "    }\n",
       "\n",
       "    .dataframe tbody tr th {\n",
       "        vertical-align: top;\n",
       "    }\n",
       "\n",
       "    .dataframe thead th {\n",
       "        text-align: right;\n",
       "    }\n",
       "</style>\n",
       "<table border=\"1\" class=\"dataframe\">\n",
       "  <thead>\n",
       "    <tr style=\"text-align: right;\">\n",
       "      <th></th>\n",
       "      <th>Call_Failure</th>\n",
       "      <th>Complains</th>\n",
       "      <th>Subscription_Length</th>\n",
       "      <th>Charge_Amount</th>\n",
       "      <th>Seconds_of_Use</th>\n",
       "      <th>Frequency_of_SMS</th>\n",
       "      <th>Age_Group</th>\n",
       "      <th>Tariff_Plan</th>\n",
       "      <th>Status</th>\n",
       "      <th>Churn</th>\n",
       "    </tr>\n",
       "  </thead>\n",
       "  <tbody>\n",
       "    <tr>\n",
       "      <th>0</th>\n",
       "      <td>8</td>\n",
       "      <td>0</td>\n",
       "      <td>38</td>\n",
       "      <td>0</td>\n",
       "      <td>4370</td>\n",
       "      <td>5</td>\n",
       "      <td>3</td>\n",
       "      <td>1</td>\n",
       "      <td>1</td>\n",
       "      <td>0</td>\n",
       "    </tr>\n",
       "    <tr>\n",
       "      <th>1</th>\n",
       "      <td>0</td>\n",
       "      <td>0</td>\n",
       "      <td>39</td>\n",
       "      <td>0</td>\n",
       "      <td>318</td>\n",
       "      <td>7</td>\n",
       "      <td>2</td>\n",
       "      <td>1</td>\n",
       "      <td>2</td>\n",
       "      <td>0</td>\n",
       "    </tr>\n",
       "    <tr>\n",
       "      <th>2</th>\n",
       "      <td>10</td>\n",
       "      <td>0</td>\n",
       "      <td>37</td>\n",
       "      <td>0</td>\n",
       "      <td>2453</td>\n",
       "      <td>359</td>\n",
       "      <td>3</td>\n",
       "      <td>1</td>\n",
       "      <td>1</td>\n",
       "      <td>0</td>\n",
       "    </tr>\n",
       "    <tr>\n",
       "      <th>3</th>\n",
       "      <td>10</td>\n",
       "      <td>0</td>\n",
       "      <td>38</td>\n",
       "      <td>0</td>\n",
       "      <td>4198</td>\n",
       "      <td>1</td>\n",
       "      <td>1</td>\n",
       "      <td>1</td>\n",
       "      <td>1</td>\n",
       "      <td>0</td>\n",
       "    </tr>\n",
       "    <tr>\n",
       "      <th>4</th>\n",
       "      <td>3</td>\n",
       "      <td>0</td>\n",
       "      <td>38</td>\n",
       "      <td>0</td>\n",
       "      <td>2393</td>\n",
       "      <td>2</td>\n",
       "      <td>1</td>\n",
       "      <td>1</td>\n",
       "      <td>1</td>\n",
       "      <td>0</td>\n",
       "    </tr>\n",
       "    <tr>\n",
       "      <th>...</th>\n",
       "      <td>...</td>\n",
       "      <td>...</td>\n",
       "      <td>...</td>\n",
       "      <td>...</td>\n",
       "      <td>...</td>\n",
       "      <td>...</td>\n",
       "      <td>...</td>\n",
       "      <td>...</td>\n",
       "      <td>...</td>\n",
       "      <td>...</td>\n",
       "    </tr>\n",
       "    <tr>\n",
       "      <th>3145</th>\n",
       "      <td>21</td>\n",
       "      <td>0</td>\n",
       "      <td>19</td>\n",
       "      <td>2</td>\n",
       "      <td>6697</td>\n",
       "      <td>92</td>\n",
       "      <td>2</td>\n",
       "      <td>2</td>\n",
       "      <td>1</td>\n",
       "      <td>0</td>\n",
       "    </tr>\n",
       "    <tr>\n",
       "      <th>3146</th>\n",
       "      <td>17</td>\n",
       "      <td>0</td>\n",
       "      <td>17</td>\n",
       "      <td>1</td>\n",
       "      <td>9237</td>\n",
       "      <td>80</td>\n",
       "      <td>5</td>\n",
       "      <td>1</td>\n",
       "      <td>1</td>\n",
       "      <td>0</td>\n",
       "    </tr>\n",
       "    <tr>\n",
       "      <th>3147</th>\n",
       "      <td>13</td>\n",
       "      <td>0</td>\n",
       "      <td>18</td>\n",
       "      <td>4</td>\n",
       "      <td>3157</td>\n",
       "      <td>38</td>\n",
       "      <td>3</td>\n",
       "      <td>1</td>\n",
       "      <td>1</td>\n",
       "      <td>0</td>\n",
       "    </tr>\n",
       "    <tr>\n",
       "      <th>3148</th>\n",
       "      <td>7</td>\n",
       "      <td>0</td>\n",
       "      <td>11</td>\n",
       "      <td>2</td>\n",
       "      <td>4695</td>\n",
       "      <td>222</td>\n",
       "      <td>3</td>\n",
       "      <td>1</td>\n",
       "      <td>1</td>\n",
       "      <td>0</td>\n",
       "    </tr>\n",
       "    <tr>\n",
       "      <th>3149</th>\n",
       "      <td>8</td>\n",
       "      <td>1</td>\n",
       "      <td>11</td>\n",
       "      <td>2</td>\n",
       "      <td>1792</td>\n",
       "      <td>7</td>\n",
       "      <td>3</td>\n",
       "      <td>1</td>\n",
       "      <td>1</td>\n",
       "      <td>1</td>\n",
       "    </tr>\n",
       "  </tbody>\n",
       "</table>\n",
       "<p>3150 rows × 10 columns</p>\n",
       "</div>"
      ],
      "text/plain": [
       "      Call_Failure  Complains  Subscription_Length  Charge_Amount  \\\n",
       "0                8          0                   38              0   \n",
       "1                0          0                   39              0   \n",
       "2               10          0                   37              0   \n",
       "3               10          0                   38              0   \n",
       "4                3          0                   38              0   \n",
       "...            ...        ...                  ...            ...   \n",
       "3145            21          0                   19              2   \n",
       "3146            17          0                   17              1   \n",
       "3147            13          0                   18              4   \n",
       "3148             7          0                   11              2   \n",
       "3149             8          1                   11              2   \n",
       "\n",
       "      Seconds_of_Use  Frequency_of_SMS  Age_Group  Tariff_Plan  Status  Churn  \n",
       "0               4370                 5          3            1       1      0  \n",
       "1                318                 7          2            1       2      0  \n",
       "2               2453               359          3            1       1      0  \n",
       "3               4198                 1          1            1       1      0  \n",
       "4               2393                 2          1            1       1      0  \n",
       "...              ...               ...        ...          ...     ...    ...  \n",
       "3145            6697                92          2            2       1      0  \n",
       "3146            9237                80          5            1       1      0  \n",
       "3147            3157                38          3            1       1      0  \n",
       "3148            4695               222          3            1       1      0  \n",
       "3149            1792                 7          3            1       1      1  \n",
       "\n",
       "[3150 rows x 10 columns]"
      ]
     },
     "execution_count": 247,
     "metadata": {},
     "output_type": "execute_result"
    }
   ],
   "source": [
    "churn_data"
   ]
  },
  {
   "cell_type": "code",
   "execution_count": 158,
   "metadata": {},
   "outputs": [
    {
     "data": {
      "text/plain": [
       "[Text(0.5, 0, 'Status'), Text(0, 0.5, 'Frequency of Status')]"
      ]
     },
     "execution_count": 158,
     "metadata": {},
     "output_type": "execute_result"
    },
    {
     "data": {
      "image/png": "[encoded data removed]",
      "text/plain": [
       "<Figure size 1296x432 with 3 Axes>"
      ]
     },
     "metadata": {
      "needs_background": "light"
     },
     "output_type": "display_data"
    }
   ],
   "source": [
    "plt.figure(figsize=(18, 6))\n",
    "\n",
    "plt.subplot(1,3,1)\n",
    "plt1 = churn_data.Complains.value_counts().plot(kind='bar')\n",
    "plt.title('Complains Histogram')\n",
    "plt1.set(xlabel = 'Complains', ylabel='Frequency of Complains')\n",
    "\n",
    "plt.subplot(1,3,2)\n",
    "plt1 = churn_data.Tariff_Plan.value_counts().plot(kind='bar')\n",
    "plt.title('Tariff_Plan Histogram')\n",
    "plt1.set(xlabel = 'Tariff_Plan', ylabel='Frequency of Tariff_Plan')\n",
    "\n",
    "plt.subplot(1,3,3)\n",
    "plt1 = churn_data.Status.value_counts().plot(kind='bar')\n",
    "plt.title('Status Histogram')\n",
    "plt1.set(xlabel = 'Status', ylabel='Frequency of Status')"
   ]
  },
  {
   "cell_type": "code",
   "execution_count": 157,
   "metadata": {},
   "outputs": [
    {
     "data": {
      "text/plain": [
       "([], [])"
      ]
     },
     "execution_count": 157,
     "metadata": {},
     "output_type": "execute_result"
    },
    {
     "data": {
      "image/png": "[encoded data removed]",
      "text/plain": [
       "<Figure size 1296x360 with 3 Axes>"
      ]
     },
     "metadata": {
      "needs_background": "light"
     },
     "output_type": "display_data"
    }
   ],
   "source": [
    "plt.figure(figsize=(18,5))\n",
    "\n",
    "plt.subplot(1,3,1)\n",
    "sns.countplot(x='Complains' ,hue='Churn', data=churn_data,palette='viridis')\n",
    "\n",
    "plt.subplot(1,3,2)\n",
    "sns.countplot(x='Tariff_Plan',hue='Churn',data=churn_data,palette='OrRd')\n",
    "plt.ylabel(' ')\n",
    "plt.yticks([ ])\n",
    "\n",
    "plt.subplot(1,3,3)\n",
    "sns.countplot(x='Status',hue='Churn',data=churn_data,palette='twilight')\n",
    "plt.ylabel(' ')\n",
    "plt.yticks([ ])"
   ]
  },
  {
   "cell_type": "markdown",
   "metadata": {},
   "source": [
    "                                                  Inference\n",
    "\n",
    "### *From the Complains plot, where 0: No complaint, 1: complain, the number of people who did not complain is more than those who did. What this means is that the numbers of people who churned is determined by the complains made, as people who churned complained more.*\n",
    "\n",
    "\n",
    "### *From the Tariff Plan plot, where 1: Pay as you go, 2: contractual, it is reveled that customers who are on the Pay as you go Tariff Plan are more likely to churn than those on the Contractual Tariff Plan which are more likely not to Churn.*\n",
    "\n",
    "\n",
    "### *From the Status plot, where 1: active, 2: non-active, it is reveled that customers who have an active Status are more than those who are non-active. What this means is that, as customers becomes non-active they are likely to churn than customers who are active.*"
   ]
  },
  {
   "cell_type": "code",
   "execution_count": 139,
   "metadata": {},
   "outputs": [
    {
     "data": {
      "text/plain": [
       "[Text(0.5, 0, 'Subscription Length In Weeks'), Text(0, 0.5, 'Count')]"
      ]
     },
     "execution_count": 139,
     "metadata": {},
     "output_type": "execute_result"
    },
    {
     "data": {
      "image/png": "[encoded data removed]",
      "text/plain": [
       "<Figure size 432x288 with 1 Axes>"
      ]
     },
     "metadata": {
      "needs_background": "light"
     },
     "output_type": "display_data"
    }
   ],
   "source": [
    "ax = sns.histplot(x = 'Subscription_Length', hue = 'Churn', data = churn_data, multiple='dodge')\n",
    "ax.set(xlabel=\"Subscription Length In Weeks\", ylabel = \"Count\")"
   ]
  },
  {
   "cell_type": "markdown",
   "metadata": {},
   "source": [
    "                                                        Inference"
   ]
  },
  {
   "cell_type": "markdown",
   "metadata": {},
   "source": [
    "### *From the plot, where Subscription Length represents total number of subscription. It shows that the customers subsciption length increases.*\n",
    "### *What this means is that, as Customers begin to increase their length of subsciption,  the rate of churn reduces. This means customers with higher subsciption Length are less likely to Churn.*"
   ]
  },
  {
   "cell_type": "code",
   "execution_count": 127,
   "metadata": {},
   "outputs": [
    {
     "data": {
      "text/plain": [
       "count    3150.000000\n",
       "mean      470.972916\n",
       "std       517.015433\n",
       "min         0.000000\n",
       "25%       113.801250\n",
       "50%       228.480000\n",
       "75%       788.388750\n",
       "max      2165.280000\n",
       "Name: Customer_Value, dtype: float64"
      ]
     },
     "execution_count": 127,
     "metadata": {},
     "output_type": "execute_result"
    }
   ],
   "source": [
    "churn_data.Customer_Value.describe()"
   ]
  },
  {
   "cell_type": "code",
   "execution_count": 17,
   "metadata": {},
   "outputs": [
    {
     "data": {
      "text/plain": [
       "[Text(0.5, 0, 'Customer Value In Hours'), Text(0, 0.5, 'Count')]"
      ]
     },
     "execution_count": 17,
     "metadata": {},
     "output_type": "execute_result"
    },
    {
     "data": {
      "image/png": "[encoded data removed]",
      "text/plain": [
       "<Figure size 432x288 with 1 Axes>"
      ]
     },
     "metadata": {
      "needs_background": "light"
     },
     "output_type": "display_data"
    }
   ],
   "source": [
    "ax = sns.histplot(x = 'Customer_Value', hue = 'Churn', data = churn_data, multiple='dodge')\n",
    "ax.set(xlabel=\"Customer Value In Hours\", ylabel = \"Count\")"
   ]
  },
  {
   "cell_type": "markdown",
   "metadata": {},
   "source": [
    "                                                     Inference"
   ]
  },
  {
   "cell_type": "markdown",
   "metadata": {},
   "source": [
    "### *As the Value of Customers increases, the probability of customers churn decreases.*\n",
    "### *This means that as customers get more value they are likely not to churn.*"
   ]
  },
  {
   "cell_type": "code",
   "execution_count": 32,
   "metadata": {},
   "outputs": [
    {
     "data": {
      "image/png": "[encoded data removed]",
      "text/plain": [
       "<Figure size 432x288 with 1 Axes>"
      ]
     },
     "metadata": {
      "needs_background": "light"
     },
     "output_type": "display_data"
    },
    {
     "data": {
      "text/plain": [
       "<Figure size 1800x720 with 0 Axes>"
      ]
     },
     "metadata": {},
     "output_type": "display_data"
    }
   ],
   "source": [
    "plt.scatter(churn_data.Seconds_of_Use[churn_data.Churn==0],churn_data.Age_Group[churn_data.Churn==0], c='lightblue') ##non churn customers\n",
    "plt.scatter(churn_data.Seconds_of_Use[churn_data.Churn==1],churn_data.Age_Group[churn_data.Churn==1], c='salmon') #churn customers\n",
    "plt.title('churn customers')\n",
    "plt.ylabel('Age Group')\n",
    "plt.xlabel('Seconds of Use')\n",
    "plt.legend(['non churn','churn'])\n",
    "plt.figure(figsize=(25,10))\n",
    "plt.show()"
   ]
  },
  {
   "cell_type": "markdown",
   "metadata": {},
   "source": [
    "                                                  Inference"
   ]
  },
  {
   "cell_type": "markdown",
   "metadata": {},
   "source": [
    "### *where status 1: active, 2: non-active. It shows that, people who are active also have a higher Subscription lenght are less likely to churn than those who are non active.*"
   ]
  },
  {
   "cell_type": "code",
   "execution_count": 33,
   "metadata": {},
   "outputs": [
    {
     "data": {
      "image/png": "[encoded data removed]",
      "text/plain": [
       "<Figure size 432x288 with 1 Axes>"
      ]
     },
     "metadata": {
      "needs_background": "light"
     },
     "output_type": "display_data"
    },
    {
     "data": {
      "text/plain": [
       "<Figure size 1800x720 with 0 Axes>"
      ]
     },
     "metadata": {},
     "output_type": "display_data"
    }
   ],
   "source": [
    "plt.scatter(churn_data.Subscription_Length[churn_data.Churn==0],churn_data.Age_Group[churn_data.Churn==0], c='lightblue') #non churn customers\n",
    "plt.scatter(churn_data.Subscription_Length[churn_data.Churn==1],churn_data.Age_Group[churn_data.Churn==1], c='salmon') #churn customers\n",
    "plt.title('Age Group vs Subscription_Length')\n",
    "plt.ylabel('Age Group')\n",
    "plt.xlabel('Subscription_Length')\n",
    "plt.legend(['non churn','churn'])\n",
    "plt.figure(figsize=(25,10))\n",
    "plt.show()"
   ]
  },
  {
   "cell_type": "markdown",
   "metadata": {},
   "source": [
    "                                                   Inference"
   ]
  },
  {
   "cell_type": "markdown",
   "metadata": {},
   "source": [
    "### *The younger age group have a higher Subscription Length than the older age group. This means that the younger age group are less likely to churn* "
   ]
  },
  {
   "cell_type": "code",
   "execution_count": 62,
   "metadata": {},
   "outputs": [
    {
     "data": {
      "text/html": [
       "<div>\n",
       "<style scoped>\n",
       "    .dataframe tbody tr th:only-of-type {\n",
       "        vertical-align: middle;\n",
       "    }\n",
       "\n",
       "    .dataframe tbody tr th {\n",
       "        vertical-align: top;\n",
       "    }\n",
       "\n",
       "    .dataframe thead tr th {\n",
       "        text-align: left;\n",
       "    }\n",
       "\n",
       "    .dataframe thead tr:last-of-type th {\n",
       "        text-align: right;\n",
       "    }\n",
       "</style>\n",
       "<table border=\"1\" class=\"dataframe\">\n",
       "  <thead>\n",
       "    <tr>\n",
       "      <th></th>\n",
       "      <th colspan=\"2\" halign=\"left\">Churn</th>\n",
       "    </tr>\n",
       "    <tr>\n",
       "      <th></th>\n",
       "      <th>mean</th>\n",
       "      <th>count</th>\n",
       "    </tr>\n",
       "    <tr>\n",
       "      <th>Age_Group</th>\n",
       "      <th></th>\n",
       "      <th></th>\n",
       "    </tr>\n",
       "  </thead>\n",
       "  <tbody>\n",
       "    <tr>\n",
       "      <th>1</th>\n",
       "      <td>0.000000</td>\n",
       "      <td>123</td>\n",
       "    </tr>\n",
       "    <tr>\n",
       "      <th>2</th>\n",
       "      <td>0.177435</td>\n",
       "      <td>1037</td>\n",
       "    </tr>\n",
       "    <tr>\n",
       "      <th>3</th>\n",
       "      <td>0.161404</td>\n",
       "      <td>1425</td>\n",
       "    </tr>\n",
       "    <tr>\n",
       "      <th>4</th>\n",
       "      <td>0.200000</td>\n",
       "      <td>395</td>\n",
       "    </tr>\n",
       "    <tr>\n",
       "      <th>5</th>\n",
       "      <td>0.011765</td>\n",
       "      <td>170</td>\n",
       "    </tr>\n",
       "  </tbody>\n",
       "</table>\n",
       "</div>"
      ],
      "text/plain": [
       "              Churn      \n",
       "               mean count\n",
       "Age_Group                \n",
       "1          0.000000   123\n",
       "2          0.177435  1037\n",
       "3          0.161404  1425\n",
       "4          0.200000   395\n",
       "5          0.011765   170"
      ]
     },
     "execution_count": 62,
     "metadata": {},
     "output_type": "execute_result"
    }
   ],
   "source": [
    "# grouping the rows based on the values in the Age Group column which are younger and older\n",
    "churn_data[['Age_Group','Churn']].groupby('Age_Group').agg(['mean','count'])"
   ]
  },
  {
   "cell_type": "markdown",
   "metadata": {},
   "source": [
    "### *From the Age Group, where 1 = younger age, 5 = older age. The number of older older age are close so there is not a considerable imbalance. On average, the churn rate for the older age is higher than that of the younger age.*"
   ]
  },
  {
   "cell_type": "code",
   "execution_count": 39,
   "metadata": {},
   "outputs": [
    {
     "data": {
      "text/html": [
       "<div>\n",
       "<style scoped>\n",
       "    .dataframe tbody tr th:only-of-type {\n",
       "        vertical-align: middle;\n",
       "    }\n",
       "\n",
       "    .dataframe tbody tr th {\n",
       "        vertical-align: top;\n",
       "    }\n",
       "\n",
       "    .dataframe thead th {\n",
       "        text-align: right;\n",
       "    }\n",
       "</style>\n",
       "<table border=\"1\" class=\"dataframe\">\n",
       "  <thead>\n",
       "    <tr style=\"text-align: right;\">\n",
       "      <th></th>\n",
       "      <th>Subscription_Length</th>\n",
       "      <th>Seconds_of_Use</th>\n",
       "      <th>Churn</th>\n",
       "    </tr>\n",
       "    <tr>\n",
       "      <th>Age_Group</th>\n",
       "      <th></th>\n",
       "      <th></th>\n",
       "      <th></th>\n",
       "    </tr>\n",
       "  </thead>\n",
       "  <tbody>\n",
       "    <tr>\n",
       "      <th>1</th>\n",
       "      <td>32.056911</td>\n",
       "      <td>3986.853659</td>\n",
       "      <td>0.000000</td>\n",
       "    </tr>\n",
       "    <tr>\n",
       "      <th>2</th>\n",
       "      <td>31.847637</td>\n",
       "      <td>4536.344262</td>\n",
       "      <td>0.177435</td>\n",
       "    </tr>\n",
       "    <tr>\n",
       "      <th>3</th>\n",
       "      <td>33.348772</td>\n",
       "      <td>4463.154386</td>\n",
       "      <td>0.161404</td>\n",
       "    </tr>\n",
       "    <tr>\n",
       "      <th>4</th>\n",
       "      <td>31.483544</td>\n",
       "      <td>4042.088608</td>\n",
       "      <td>0.200000</td>\n",
       "    </tr>\n",
       "    <tr>\n",
       "      <th>5</th>\n",
       "      <td>32.823529</td>\n",
       "      <td>5512.094118</td>\n",
       "      <td>0.011765</td>\n",
       "    </tr>\n",
       "  </tbody>\n",
       "</table>\n",
       "</div>"
      ],
      "text/plain": [
       "           Subscription_Length  Seconds_of_Use     Churn\n",
       "Age_Group                                               \n",
       "1                    32.056911     3986.853659  0.000000\n",
       "2                    31.847637     4536.344262  0.177435\n",
       "3                    33.348772     4463.154386  0.161404\n",
       "4                    31.483544     4042.088608  0.200000\n",
       "5                    32.823529     5512.094118  0.011765"
      ]
     },
     "execution_count": 39,
     "metadata": {},
     "output_type": "execute_result"
    }
   ],
   "source": [
    "# group by multiple columns by passing a list of columns to groupby function\n",
    "churn_data[['Age_Group','Subscription_Length', 'Seconds_of_Use', 'Churn']].groupby('Age_Group').mean()"
   ]
  },
  {
   "cell_type": "markdown",
   "metadata": {},
   "source": [
    "                                             Inference"
   ]
  },
  {
   "cell_type": "markdown",
   "metadata": {},
   "source": [
    "### *The Subscription_Length and the Total seconds of calls is more from the younger Age Group than the Older Age Group, Hence, the younger age group are less likely to churn.*"
   ]
  },
  {
   "cell_type": "code",
   "execution_count": 42,
   "metadata": {},
   "outputs": [
    {
     "data": {
      "text/html": [
       "<div>\n",
       "<style scoped>\n",
       "    .dataframe tbody tr th:only-of-type {\n",
       "        vertical-align: middle;\n",
       "    }\n",
       "\n",
       "    .dataframe tbody tr th {\n",
       "        vertical-align: top;\n",
       "    }\n",
       "\n",
       "    .dataframe thead th {\n",
       "        text-align: right;\n",
       "    }\n",
       "</style>\n",
       "<table border=\"1\" class=\"dataframe\">\n",
       "  <thead>\n",
       "    <tr style=\"text-align: right;\">\n",
       "      <th></th>\n",
       "      <th>Subscription_Length</th>\n",
       "      <th>Seconds_of_Use</th>\n",
       "      <th>Charge_Amount</th>\n",
       "      <th>Churn</th>\n",
       "    </tr>\n",
       "    <tr>\n",
       "      <th>Status</th>\n",
       "      <th></th>\n",
       "      <th></th>\n",
       "      <th></th>\n",
       "      <th></th>\n",
       "    </tr>\n",
       "  </thead>\n",
       "  <tbody>\n",
       "    <tr>\n",
       "      <th>1</th>\n",
       "      <td>31.838260</td>\n",
       "      <td>5583.468750</td>\n",
       "      <td>1.254223</td>\n",
       "      <td>0.052787</td>\n",
       "    </tr>\n",
       "    <tr>\n",
       "      <th>2</th>\n",
       "      <td>34.672634</td>\n",
       "      <td>1108.176471</td>\n",
       "      <td>0.000000</td>\n",
       "      <td>0.473146</td>\n",
       "    </tr>\n",
       "  </tbody>\n",
       "</table>\n",
       "</div>"
      ],
      "text/plain": [
       "        Subscription_Length  Seconds_of_Use  Charge_Amount     Churn\n",
       "Status                                                              \n",
       "1                 31.838260     5583.468750       1.254223  0.052787\n",
       "2                 34.672634     1108.176471       0.000000  0.473146"
      ]
     },
     "execution_count": 42,
     "metadata": {},
     "output_type": "execute_result"
    }
   ],
   "source": [
    "churn_data[['Status','Subscription_Length', 'Seconds_of_Use', 'Charge_Amount', 'Churn']].groupby('Status').mean()\n"
   ]
  },
  {
   "cell_type": "markdown",
   "metadata": {},
   "source": [
    "                                                 Inference"
   ]
  },
  {
   "cell_type": "markdown",
   "metadata": {},
   "source": [
    "### *where Status represents 1: active and  2: non-active. This implies that the active customers are the ones who spend more time on calls and are also charged higher, yet are less likely to churn compared to the non active customers.*"
   ]
  },
  {
   "cell_type": "code",
   "execution_count": 82,
   "metadata": {},
   "outputs": [
    {
     "data": {
      "text/html": [
       "<div>\n",
       "<style scoped>\n",
       "    .dataframe tbody tr th:only-of-type {\n",
       "        vertical-align: middle;\n",
       "    }\n",
       "\n",
       "    .dataframe tbody tr th {\n",
       "        vertical-align: top;\n",
       "    }\n",
       "\n",
       "    .dataframe thead tr th {\n",
       "        text-align: left;\n",
       "    }\n",
       "\n",
       "    .dataframe thead tr:last-of-type th {\n",
       "        text-align: right;\n",
       "    }\n",
       "</style>\n",
       "<table border=\"1\" class=\"dataframe\">\n",
       "  <thead>\n",
       "    <tr>\n",
       "      <th></th>\n",
       "      <th colspan=\"2\" halign=\"left\">Seconds_of_Use</th>\n",
       "    </tr>\n",
       "    <tr>\n",
       "      <th></th>\n",
       "      <th>mean</th>\n",
       "      <th>max</th>\n",
       "    </tr>\n",
       "    <tr>\n",
       "      <th>Charge_Amount</th>\n",
       "      <th></th>\n",
       "      <th></th>\n",
       "    </tr>\n",
       "  </thead>\n",
       "  <tbody>\n",
       "    <tr>\n",
       "      <th>0</th>\n",
       "      <td>3022.313348</td>\n",
       "      <td>15890</td>\n",
       "    </tr>\n",
       "    <tr>\n",
       "      <th>1</th>\n",
       "      <td>5135.098865</td>\n",
       "      <td>16195</td>\n",
       "    </tr>\n",
       "    <tr>\n",
       "      <th>2</th>\n",
       "      <td>5934.174684</td>\n",
       "      <td>16500</td>\n",
       "    </tr>\n",
       "    <tr>\n",
       "      <th>3</th>\n",
       "      <td>7532.462312</td>\n",
       "      <td>16480</td>\n",
       "    </tr>\n",
       "    <tr>\n",
       "      <th>4</th>\n",
       "      <td>9617.052632</td>\n",
       "      <td>16785</td>\n",
       "    </tr>\n",
       "    <tr>\n",
       "      <th>5</th>\n",
       "      <td>10713.300000</td>\n",
       "      <td>17090</td>\n",
       "    </tr>\n",
       "    <tr>\n",
       "      <th>6</th>\n",
       "      <td>10367.545455</td>\n",
       "      <td>16980</td>\n",
       "    </tr>\n",
       "    <tr>\n",
       "      <th>7</th>\n",
       "      <td>10173.928571</td>\n",
       "      <td>10435</td>\n",
       "    </tr>\n",
       "    <tr>\n",
       "      <th>8</th>\n",
       "      <td>10435.000000</td>\n",
       "      <td>10840</td>\n",
       "    </tr>\n",
       "    <tr>\n",
       "      <th>9</th>\n",
       "      <td>10696.071429</td>\n",
       "      <td>11145</td>\n",
       "    </tr>\n",
       "    <tr>\n",
       "      <th>10</th>\n",
       "      <td>10957.142857</td>\n",
       "      <td>11450</td>\n",
       "    </tr>\n",
       "  </tbody>\n",
       "</table>\n",
       "</div>"
      ],
      "text/plain": [
       "              Seconds_of_Use       \n",
       "                        mean    max\n",
       "Charge_Amount                      \n",
       "0                3022.313348  15890\n",
       "1                5135.098865  16195\n",
       "2                5934.174684  16500\n",
       "3                7532.462312  16480\n",
       "4                9617.052632  16785\n",
       "5               10713.300000  17090\n",
       "6               10367.545455  16980\n",
       "7               10173.928571  10435\n",
       "8               10435.000000  10840\n",
       "9               10696.071429  11145\n",
       "10              10957.142857  11450"
      ]
     },
     "execution_count": 82,
     "metadata": {},
     "output_type": "execute_result"
    }
   ],
   "source": [
    "churn_data[['Charge_Amount', 'Seconds_of_Use']].groupby(['Charge_Amount']).agg(['mean','max'])"
   ]
  },
  {
   "cell_type": "markdown",
   "metadata": {},
   "source": [
    "                                                Inference"
   ]
  },
  {
   "cell_type": "markdown",
   "metadata": {},
   "source": [
    "### *Where Charge Amount represents charges on customers service from the lowest amount to the highest amount. What this means is that, As customers are Charged higher, the total seconds of calls reduces, that is, they try to reduce the total time (seconds) on calls. However, customers charged lower amount have higer probability of staying longer on calls.*"
   ]
  },
  {
   "cell_type": "code",
   "execution_count": 97,
   "metadata": {},
   "outputs": [
    {
     "data": {
      "text/html": [
       "<div>\n",
       "<style scoped>\n",
       "    .dataframe tbody tr th:only-of-type {\n",
       "        vertical-align: middle;\n",
       "    }\n",
       "\n",
       "    .dataframe tbody tr th {\n",
       "        vertical-align: top;\n",
       "    }\n",
       "\n",
       "    .dataframe thead th {\n",
       "        text-align: right;\n",
       "    }\n",
       "</style>\n",
       "<table border=\"1\" class=\"dataframe\">\n",
       "  <thead>\n",
       "    <tr style=\"text-align: right;\">\n",
       "      <th></th>\n",
       "      <th>Call_Failure</th>\n",
       "      <th>Subscription_Length</th>\n",
       "      <th>Charge_Amount</th>\n",
       "      <th>Seconds_of_Use</th>\n",
       "      <th>Frequency_of_Use</th>\n",
       "      <th>Frequency_of_Sms</th>\n",
       "      <th>Distinct_Called_Numbers</th>\n",
       "      <th>Age_Group</th>\n",
       "      <th>Tariff_Plan</th>\n",
       "      <th>Status</th>\n",
       "      <th>Customer_Value</th>\n",
       "      <th>Churn</th>\n",
       "    </tr>\n",
       "    <tr>\n",
       "      <th>Complains</th>\n",
       "      <th></th>\n",
       "      <th></th>\n",
       "      <th></th>\n",
       "      <th></th>\n",
       "      <th></th>\n",
       "      <th></th>\n",
       "      <th></th>\n",
       "      <th></th>\n",
       "      <th></th>\n",
       "      <th></th>\n",
       "      <th></th>\n",
       "      <th></th>\n",
       "    </tr>\n",
       "  </thead>\n",
       "  <tbody>\n",
       "    <tr>\n",
       "      <th>0</th>\n",
       "      <td>7.308353</td>\n",
       "      <td>32.591956</td>\n",
       "      <td>0.957717</td>\n",
       "      <td>4599.251289</td>\n",
       "      <td>70.960468</td>\n",
       "      <td>76.780681</td>\n",
       "      <td>23.798212</td>\n",
       "      <td>2.820901</td>\n",
       "      <td>1.077690</td>\n",
       "      <td>1.214507</td>\n",
       "      <td>490.746296</td>\n",
       "      <td>0.101409</td>\n",
       "    </tr>\n",
       "    <tr>\n",
       "      <th>1</th>\n",
       "      <td>11.485477</td>\n",
       "      <td>31.937759</td>\n",
       "      <td>0.763485</td>\n",
       "      <td>2942.016598</td>\n",
       "      <td>51.356846</td>\n",
       "      <td>29.651452</td>\n",
       "      <td>20.029046</td>\n",
       "      <td>2.887967</td>\n",
       "      <td>1.078838</td>\n",
       "      <td>1.655602</td>\n",
       "      <td>232.297552</td>\n",
       "      <td>0.829876</td>\n",
       "    </tr>\n",
       "  </tbody>\n",
       "</table>\n",
       "</div>"
      ],
      "text/plain": [
       "           Call_Failure  Subscription_Length  Charge_Amount  Seconds_of_Use  \\\n",
       "Complains                                                                     \n",
       "0              7.308353            32.591956       0.957717     4599.251289   \n",
       "1             11.485477            31.937759       0.763485     2942.016598   \n",
       "\n",
       "           Frequency_of_Use  Frequency_of_Sms  Distinct_Called_Numbers  \\\n",
       "Complains                                                                \n",
       "0                 70.960468         76.780681                23.798212   \n",
       "1                 51.356846         29.651452                20.029046   \n",
       "\n",
       "           Age_Group  Tariff_Plan    Status  Customer_Value     Churn  \n",
       "Complains                                                              \n",
       "0           2.820901     1.077690  1.214507      490.746296  0.101409  \n",
       "1           2.887967     1.078838  1.655602      232.297552  0.829876  "
      ]
     },
     "execution_count": 97,
     "metadata": {},
     "output_type": "execute_result"
    }
   ],
   "source": [
    "churn_data.groupby(by='Complains').mean()"
   ]
  },
  {
   "cell_type": "markdown",
   "metadata": {},
   "source": [
    "                                                 Inference"
   ]
  },
  {
   "cell_type": "markdown",
   "metadata": {},
   "source": [
    "### *Making inference from the Complains feature, where 0 represents No complaint from customers and 1 represents complaint by customers shows that cutomers with no complains experince little  Call Failure, have higher Subscription Length, and are better off with low probabilty to churn than customers with complains. This means that cutomers who complains have higher probability to churn.*"
   ]
  },
  {
   "cell_type": "markdown",
   "metadata": {},
   "source": [
    "                                              Recommendations\n",
    "\n",
    "1. since the Complains and Status features are highly significant in explaining if a customer will churn or not, the company should give it more attention, because acquiring new customers is often arduous and costlier than retaining old ones. Hence, emphasis should be laid on the customers that are at a high risk of leaving and incentive should be given.*\n",
    "\n",
    "2. Since the Tariff Plan plot,  it is revels that customers who are on the Pay as you go Tariff Plan are more likely to churn than those on the Contractual Tariff Plan. Hence, more attention should be given to those on the  Pay as you go Tariff plan aa well as  incentives that attract customers to join the Contractual Tariff Plan.\n",
    "\n",
    "3. Since the subscription length plot shows that the customers subsciption length increases, Incentives should be given to Customers with consistent subscription length and also to customers  emphasis should be given to customers with lower subscription length to reduce the rate of churn.\n",
    "\n",
    "4. Since the Value of Customers plot shows that as customers get value the probability of customers churn decreases. Emphasis should be laid on the value of service as this means customers that they are likely not to churn.\n",
    "\n",
    "5. Since the inference from the Age Group shows that the number of older age group are more likely to churn, attention should be directed to avoid churn.\n"
   ]
  }
 ],
 "metadata": {
  "interpreter": {
   "hash": "b3ba2566441a7c06988d0923437866b63cedc61552a5af99d1f4fb67d367b25f"
  },
  "kernelspec": {
   "display_name": "Python 3 (ipykernel)",
   "language": "python",
   "name": "python3"
  },
  "language_info": {
   "codemirror_mode": {
    "name": "ipython",
    "version": 3
   },
   "file_extension": ".py",
   "mimetype": "text/x-python",
   "name": "python",
   "nbconvert_exporter": "python",
   "pygments_lexer": "ipython3",
   "version": "3.8.8"
  }
 },
 "nbformat": 4,
 "nbformat_minor": 2
}
